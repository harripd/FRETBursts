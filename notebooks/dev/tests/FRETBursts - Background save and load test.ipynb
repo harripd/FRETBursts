{
 "cells": [
  {
   "cell_type": "markdown",
   "id": "76111716",
   "metadata": {},
   "source": [
    "#Test the background caching mechanism"
   ]
  },
  {
   "cell_type": "markdown",
   "id": "57b03b31",
   "metadata": {},
   "source": [
    "## Load software and data"
   ]
  },
  {
   "cell_type": "code",
   "execution_count": 1,
   "id": "706bb314",
   "metadata": {},
   "outputs": [
    {
     "name": "stdout",
     "output_type": "stream",
     "text": [
      "C:\\Data\\Antonio\\software\\src\\fretbursts\n",
      " - Optimized (cython) burst search loaded.\n",
      " - Optimized (cython) photon counting loaded.\n",
      "\n",
      "FRETBursts revision:\n",
      " 2014-08-04 9c0d8b2 Fix bg_cache (broken since ph_sel refactor)\n",
      "\n"
     ]
    }
   ],
   "source": [
    "%run ../../load_fretbursts.py"
   ]
  },
  {
   "cell_type": "markdown",
   "id": "16983b94",
   "metadata": {},
   "source": [
    "Load and process the data:"
   ]
  },
  {
   "cell_type": "code",
   "execution_count": 2,
   "id": "eed8c94f",
   "metadata": {},
   "outputs": [],
   "source": [
    "data_dir = 'C:\\Data\\Antonio\\data/'"
   ]
  },
  {
   "cell_type": "code",
   "execution_count": 3,
   "id": "f9794bc3",
   "metadata": {},
   "outputs": [],
   "source": [
    "fname = data_dir + u'/manta/2014-04-11/17d_200p_2_600mW_reall_steer_20.dat'"
   ]
  },
  {
   "cell_type": "code",
   "execution_count": 4,
   "id": "46af64d4",
   "metadata": {},
   "outputs": [
    {
     "name": "stdout",
     "output_type": "stream",
     "text": [
      " - Loading HDF5 file: C:\\Data\\Antonio\\data//manta/2014-04-11/17d_200p_2_600mW_reall_steer_20.hdf5 ... DONE.\n",
      " - Loading HDF5 file: C:\\Data\\Antonio\\data//manta/2014-04-11/17d_200p_2_600mW_reall_steer_20.hdf5 ... DONE.\n"
     ]
    }
   ],
   "source": [
    "d1 = loader.multispot48(fname)\n",
    "d2 = loader.multispot48(fname)"
   ]
  },
  {
   "cell_type": "code",
   "execution_count": 5,
   "id": "2bae77d6",
   "metadata": {},
   "outputs": [],
   "source": [
    "def compare_data_bg(d1, d2):\n",
    "    mch_arrays = ['bg', 'bg_dd', 'bg_ad', 'bg_aa', 'Lim', 'Ph_p']\n",
    "    scalars = ['nperiods', 'bg_time_s', 'bg_auto_th', 'bg_fun_name']\n",
    "    for name in mch_arrays:\n",
    "        for ich, arr in enumerate(d1[name]):\n",
    "            assert np.allclose(arr, d2[name][ich])\n",
    "    for name in scalars:\n",
    "        assert d1[name] == d2[name]"
   ]
  },
  {
   "cell_type": "code",
   "execution_count": 6,
   "id": "bade82c6",
   "metadata": {},
   "outputs": [],
   "source": [
    "#reload(bg_cache)"
   ]
  },
  {
   "cell_type": "markdown",
   "id": "e917a296",
   "metadata": {},
   "source": [
    "#Manual threshold"
   ]
  },
  {
   "cell_type": "code",
   "execution_count": 7,
   "id": "246541c2",
   "metadata": {},
   "outputs": [
    {
     "name": "stdout",
     "output_type": "stream",
     "text": [
      " * Removing all the cached background data ... [DONE]\n"
     ]
    }
   ],
   "source": [
    "bg_cache.remove_cache(d2)"
   ]
  },
  {
   "cell_type": "code",
   "execution_count": 8,
   "id": "11a1fea3",
   "metadata": {},
   "outputs": [
    {
     "name": "stdout",
     "output_type": "stream",
     "text": [
      " - Calculating BG rates ... [DONE]\n",
      " * No cached BG rates, recomputing:\n",
      " - Calculating BG rates ... [DONE]\n",
      " * Storing BG  to disk ... \n",
      " - Saving arrays/scalars: bg, bg_time_s, Ph_p, Lim, nperiods, bg_dd, bg_auto_th, bg_da, bg_th_us_user, bg_aa, bg_ad, \n",
      " - Saving HDF5 attributes: bg_fun, bg_fun_name, \n",
      " [DONE]\n"
     ]
    }
   ],
   "source": [
    "d1.calc_bg(bg.exp_fit, time_s=20, tail_min_us=300)\n",
    "d2.calc_bg_cache(bg.exp_fit, time_s=20, tail_min_us=300)"
   ]
  },
  {
   "cell_type": "code",
   "execution_count": 9,
   "id": "769d0aad",
   "metadata": {},
   "outputs": [],
   "source": [
    "compare_data_bg(d1, d2)"
   ]
  },
  {
   "cell_type": "code",
   "execution_count": 10,
   "id": "69a204db",
   "metadata": {},
   "outputs": [
    {
     "name": "stdout",
     "output_type": "stream",
     "text": [
      " * Loading BG rates from cache ... \n",
      " - Loading arrays/scalars: Lim, Ph_p, bg, bg_aa, bg_ad, bg_auto_th, bg_da, bg_dd, bg_th_us_user, bg_time_s, nperiods, \n",
      " - Loading HDF5 attributes: bg_fun, bg_fun_name, signature, \n",
      " - Generating additional fields: bg, bg_dd, bg_ad, bg_da, bg_aa, \n",
      " [DONE]\n"
     ]
    }
   ],
   "source": [
    "d2.calc_bg_cache(bg.exp_fit, time_s=20, tail_min_us=300)"
   ]
  },
  {
   "cell_type": "code",
   "execution_count": 11,
   "id": "91538674",
   "metadata": {},
   "outputs": [],
   "source": [
    "compare_data_bg(d1, d2)"
   ]
  },
  {
   "cell_type": "markdown",
   "id": "38657521",
   "metadata": {},
   "source": [
    "#Auto threshold"
   ]
  },
  {
   "cell_type": "code",
   "execution_count": 12,
   "id": "a748af8b",
   "metadata": {},
   "outputs": [
    {
     "name": "stdout",
     "output_type": "stream",
     "text": [
      " - Calculating BG rates ... [DONE]\n",
      " * No cached BG rates, recomputing:\n",
      " - Calculating BG rates ... [DONE]\n",
      " * Storing BG  to disk ... \n",
      " - Saving arrays/scalars: bg_auto_F_bg, bg, bg_time_s, Ph_p, Lim, nperiods, bg_dd, bg_auto_th, bg_da, bg_auto_th_us0, bg_aa, bg_ad, \n",
      " - Saving HDF5 attributes: bg_fun, bg_fun_name, \n",
      " [DONE]\n"
     ]
    }
   ],
   "source": [
    "d1.calc_bg(bg.exp_fit, time_s=20, tail_min_us='auto', F_bg=1.7)\n",
    "d2.calc_bg_cache(bg.exp_fit, time_s=20, tail_min_us='auto', F_bg=1.7)"
   ]
  },
  {
   "cell_type": "code",
   "execution_count": 13,
   "id": "b9724b03",
   "metadata": {},
   "outputs": [],
   "source": [
    "compare_data_bg(d1, d2)"
   ]
  },
  {
   "cell_type": "code",
   "execution_count": 14,
   "id": "2f6426ba",
   "metadata": {},
   "outputs": [
    {
     "name": "stdout",
     "output_type": "stream",
     "text": [
      " * Loading BG rates from cache ... \n",
      " - Loading arrays/scalars: Lim, Ph_p, bg, bg_aa, bg_ad, bg_auto_F_bg, bg_auto_th, bg_auto_th_us0, bg_da, bg_dd, bg_time_s, nperiods, \n",
      " - Loading HDF5 attributes: bg_fun, bg_fun_name, signature, \n",
      " - Generating additional fields: bg, bg_dd, bg_ad, bg_da, bg_aa, \n",
      " [DONE]\n"
     ]
    }
   ],
   "source": [
    "d2.calc_bg_cache(bg.exp_fit, time_s=20, tail_min_us='auto', F_bg=1.7)"
   ]
  },
  {
   "cell_type": "code",
   "execution_count": 15,
   "id": "247aff33",
   "metadata": {},
   "outputs": [],
   "source": [
    "compare_data_bg(d1, d2)"
   ]
  },
  {
   "cell_type": "markdown",
   "id": "72ca1583",
   "metadata": {},
   "source": [
    "#Direct test of bg_cache function"
   ]
  },
  {
   "cell_type": "code",
   "execution_count": 16,
   "id": "0027f64f",
   "metadata": {},
   "outputs": [
    {
     "name": "stdout",
     "output_type": "stream",
     "text": [
      " * Removing all the cached background data ... [DONE]\n"
     ]
    }
   ],
   "source": [
    "bg_cache.remove_cache(d2)"
   ]
  },
  {
   "cell_type": "code",
   "execution_count": 17,
   "id": "fceb5755",
   "metadata": {},
   "outputs": [
    {
     "name": "stdout",
     "output_type": "stream",
     "text": [
      " - Calculating BG rates ... [DONE]\n",
      " * No cached BG rates, recomputing:\n",
      " - Calculating BG rates ... [DONE]\n",
      " * Storing BG  to disk ... \n",
      " - Saving arrays/scalars: bg, bg_time_s, Ph_p, Lim, nperiods, bg_dd, bg_auto_th, bg_da, bg_th_us_user, bg_aa, bg_ad, \n",
      " - Saving HDF5 attributes: bg_fun, bg_fun_name, \n",
      " [DONE]\n"
     ]
    }
   ],
   "source": [
    "d1.calc_bg(bg.exp_fit, time_s=20, tail_min_us=300)\n",
    "bg_cache.calc_bg_cache(d2, fun=bg.exp_fit, time_s=20, tail_min_us=300)"
   ]
  },
  {
   "cell_type": "code",
   "execution_count": 18,
   "id": "9babf269",
   "metadata": {},
   "outputs": [],
   "source": [
    "compare_data_bg(d1, d2)"
   ]
  },
  {
   "cell_type": "code",
   "execution_count": 19,
   "id": "f58a9be8",
   "metadata": {},
   "outputs": [
    {
     "name": "stdout",
     "output_type": "stream",
     "text": [
      " * Loading BG rates from cache ... \n",
      " - Loading arrays/scalars: Lim, Ph_p, bg, bg_aa, bg_ad, bg_auto_th, bg_da, bg_dd, bg_th_us_user, bg_time_s, nperiods, \n",
      " - Loading HDF5 attributes: bg_fun, bg_fun_name, signature, \n",
      " - Generating additional fields: bg, bg_dd, bg_ad, bg_da, bg_aa, \n",
      " [DONE]\n"
     ]
    }
   ],
   "source": [
    "bg_cache.calc_bg_cache(d2, fun=bg.exp_fit, time_s=20, tail_min_us=300)"
   ]
  },
  {
   "cell_type": "code",
   "execution_count": 20,
   "id": "60ebdec2",
   "metadata": {},
   "outputs": [],
   "source": [
    "compare_data_bg(d1, d2)"
   ]
  },
  {
   "cell_type": "code",
   "execution_count": 21,
   "id": "125cb96d",
   "metadata": {},
   "outputs": [
    {
     "name": "stdout",
     "output_type": "stream",
     "text": [
      " - Calculating BG rates ... [DONE]\n",
      " * No cached BG rates, recomputing:\n",
      " - Calculating BG rates ... [DONE]\n",
      " * Storing BG  to disk ... \n",
      " - Saving arrays/scalars: bg_auto_F_bg, bg, bg_time_s, Ph_p, Lim, nperiods, bg_dd, bg_auto_th, bg_da, bg_auto_th_us0, bg_aa, bg_ad, \n",
      " - Saving HDF5 attributes: bg_fun, bg_fun_name, \n",
      " [DONE]\n"
     ]
    }
   ],
   "source": [
    "d1.calc_bg(bg.exp_fit, time_s=20, tail_min_us='auto', F_bg=1.7)\n",
    "bg_cache.calc_bg_cache(d2, fun=bg.exp_fit, time_s=20, tail_min_us='auto', F_bg=1.7)"
   ]
  },
  {
   "cell_type": "code",
   "execution_count": 22,
   "id": "bfa297c0",
   "metadata": {},
   "outputs": [],
   "source": [
    "compare_data_bg(d1, d2)"
   ]
  },
  {
   "cell_type": "code",
   "execution_count": 23,
   "id": "add71424",
   "metadata": {},
   "outputs": [
    {
     "name": "stdout",
     "output_type": "stream",
     "text": [
      " * Loading BG rates from cache ... \n",
      " - Loading arrays/scalars: Lim, Ph_p, bg, bg_aa, bg_ad, bg_auto_F_bg, bg_auto_th, bg_auto_th_us0, bg_da, bg_dd, bg_time_s, nperiods, \n",
      " - Loading HDF5 attributes: bg_fun, bg_fun_name, signature, \n",
      " - Generating additional fields: bg, bg_dd, bg_ad, bg_da, bg_aa, \n",
      " [DONE]\n"
     ]
    }
   ],
   "source": [
    "bg_cache.calc_bg_cache(d2, fun=bg.exp_fit, time_s=20, tail_min_us='auto', F_bg=1.7)"
   ]
  },
  {
   "cell_type": "code",
   "execution_count": 24,
   "id": "f54d47dd",
   "metadata": {},
   "outputs": [],
   "source": [
    "compare_data_bg(d1, d2)"
   ]
  },
  {
   "cell_type": "code",
   "execution_count": 25,
   "id": "a4a475da",
   "metadata": {},
   "outputs": [
    {
     "name": "stdout",
     "output_type": "stream",
     "text": [
      "OK\n"
     ]
    }
   ],
   "source": [
    "print 'OK'"
   ]
  },
  {
   "cell_type": "code",
   "execution_count": 25,
   "id": "fb3e3fcd",
   "metadata": {},
   "outputs": [],
   "source": []
  }
 ],
 "metadata": {
  "kernelspec": {
   "display_name": "Python 3 (ipykernel)",
   "language": "python",
   "name": "python3"
  },
  "language_info": {
   "codemirror_mode": {
    "name": "ipython",
    "version": 3
   },
   "file_extension": ".py",
   "mimetype": "text/x-python",
   "name": "python",
   "nbconvert_exporter": "python",
   "pygments_lexer": "ipython3",
   "version": "3.9.12"
  }
 },
 "nbformat": 4,
 "nbformat_minor": 1
}
